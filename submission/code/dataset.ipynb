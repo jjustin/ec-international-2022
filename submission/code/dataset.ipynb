{
 "cells": [
  {
   "cell_type": "markdown",
   "source": [
    "Reading from recordings"
   ],
   "metadata": {
    "collapsed": false,
    "pycharm": {
     "name": "#%% md\n"
    }
   }
  },
  {
   "cell_type": "code",
   "execution_count": 70,
   "outputs": [
    {
     "name": "stdout",
     "output_type": "stream",
     "text": [
      "400\n",
      "(array([[[  0.        , 180.14322919, 414.26175531, ...,  71.40206434,\n",
      "          80.81485765, 123.06359895],\n",
      "        [  0.        , 274.92280076, 235.08042928, ...,  48.61058961,\n",
      "          50.91901018,  34.86425288],\n",
      "        [  0.        ,  37.32593779, 377.24152753, ..., 105.31151306,\n",
      "          53.35162562,  34.58918964],\n",
      "        ...,\n",
      "        [  0.        ,  61.45960145, 228.19512446, ...,  59.33214726,\n",
      "          43.12821465, 103.70522056],\n",
      "        [  0.        , 138.3771356 , 337.33718953, ..., 134.94625284,\n",
      "          91.94628944,  62.52485891],\n",
      "        [  0.        , 390.38915245, 295.01424377, ...,  26.47776821,\n",
      "          94.82267482,  55.38843505]],\n",
      "\n",
      "       [[  0.        , 784.14347068, 205.3188624 , ...,  61.91715975,\n",
      "          68.59683895,  84.65631788],\n",
      "        [  0.        ,  92.91415885, 205.98820719, ...,  67.72016161,\n",
      "          56.13727272, 103.2191769 ],\n",
      "        [  0.        , 342.90855188, 611.73461534, ..., 110.20194721,\n",
      "         116.65829515,  84.3881543 ],\n",
      "        ...,\n",
      "        [  0.        , 119.89350982, 167.91147929, ...,   9.73135152,\n",
      "          45.28679367, 164.20299016],\n",
      "        [  0.        , 170.78242064, 184.71893908, ...,  29.61344311,\n",
      "         124.74286895, 185.32500372],\n",
      "        [  0.        , 285.64507519, 177.98866797, ...,  48.8329618 ,\n",
      "          61.34804575,  65.66893498]],\n",
      "\n",
      "       [[  0.        , 255.61045718, 402.36456987, ..., 105.79202404,\n",
      "          40.66353787,  76.00330205],\n",
      "        [  0.        , 522.19219652, 142.06084285, ...,  36.06189756,\n",
      "         136.69380719,  60.77829386],\n",
      "        [  0.        , 328.71348923, 560.27149806, ...,  29.62141804,\n",
      "         116.4234432 ,  31.18124526],\n",
      "        ...,\n",
      "        [  0.        , 350.41165076, 340.12916592, ...,  67.49226873,\n",
      "         165.21072364,  93.15252343],\n",
      "        [  0.        , 632.38843381, 395.77706611, ...,  71.07692207,\n",
      "          94.54996171,  69.83276004],\n",
      "        [  0.        , 582.15232951, 207.9883206 , ...,  86.67172462,\n",
      "          35.17854675,  46.67227897]]]), 1)\n"
     ]
    }
   ],
   "source": [
    "from sklearn.preprocessing import normalize\n",
    "from torch.utils.data import Dataset\n",
    "import numpy as np\n",
    "import processing\n",
    "from torch.utils.data import DataLoader, random_split\n",
    "\n",
    "\n",
    "class SensorDataset(Dataset):\n",
    "    def __init__(self):\n",
    "        self.samples = []\n",
    "\n",
    "        recording_list = [\n",
    "            {'title': 'recording_2022_05_25_11_55_19', 'start': 300, 'end': 400, 'label': 0},  # 0 people\n",
    "            {'title': 'recording_2022_05_25_11_46_26', 'start': 300, 'end': 400, 'label': 1},  # 1 person\n",
    "            {'title': 'recording_2022_05_25_11_47_20', 'start': 300, 'end': 400, 'label': 2},  # 2 people\n",
    "            {'title': 'recording_2022_05_25_11_48_56', 'start': 300, 'end': 400, 'label': 3},  # 3 people\n",
    "        ]\n",
    "\n",
    "        for recording in recording_list:\n",
    "            file_name = f'../../recordings/{recording[\"title\"]}/RadarIfxAvian_00/radar.npy'\n",
    "            data = np.load(file_name)\n",
    "            start_frame, end_frame, label = recording[\"start\"], recording[\"end\"], recording[\"label\"]\n",
    "\n",
    "            # iterate frames\n",
    "            processed_data = processing.processing_rangeDopplerData(data[start_frame:end_frame])\n",
    "            processed_data = np.abs(processed_data)\n",
    "            for f in processed_data:\n",
    "                self.samples.append((f, label))\n",
    "\n",
    "    def __len__(self):\n",
    "        return len(self.samples)\n",
    "\n",
    "    def __getitem__(self, idx):\n",
    "        return self.samples[idx]\n",
    "\n",
    "\n",
    "dataset = SensorDataset()\n",
    "print(len(dataset))\n",
    "print(dataset[120])\n",
    "train_size, test_size = round(len(dataset) * 0.8), round(len(dataset) * 0.2)\n",
    "train_dataset, test_dataset = random_split(dataset, [train_size, test_size])\n",
    "\n",
    "from torch.utils.data import DataLoader\n",
    "\n",
    "train_loader = DataLoader(train_dataset, batch_size=64, shuffle=True)\n",
    "test_loader = DataLoader(test_dataset, batch_size=64, shuffle=True)"
   ],
   "metadata": {
    "collapsed": false,
    "pycharm": {
     "name": "#%%\n"
    }
   }
  },
  {
   "cell_type": "code",
   "execution_count": 75,
   "outputs": [],
   "source": [
    "input_size = 3 * 64 * 64\n",
    "hidden_size = [128, 64]\n",
    "output_size = 4\n",
    "import torch.nn as nn\n",
    "from torch import optim\n",
    "\n",
    "\n",
    "class NeuralNet(nn.Module):\n",
    "    def __init__(self, input_size, hidden_size, output_size):\n",
    "        super(NeuralNet, self).__init__()\n",
    "\n",
    "        # Inputs to hidden layer linear transformation\n",
    "        self.layer1 = nn.Linear(input_size, hidden_size[0])\n",
    "        # Hidden layer 1 to HL2 linear transformation\n",
    "        self.layer2 = nn.Linear(hidden_size[0], hidden_size[1])\n",
    "        # HL2 to output linear transformation\n",
    "        self.layer3 = nn.Linear(hidden_size[1], output_size)\n",
    "\n",
    "        # Define relu activation and LogSoftmax output\n",
    "        self.relu = nn.ReLU()\n",
    "        self.LogSoftmax = nn.LogSoftmax(dim=1)\n",
    "\n",
    "    def forward(self, x):\n",
    "        # HL1 with relu activation\n",
    "        out = self.relu(self.layer1(x))\n",
    "        # HL2 with relu activation\n",
    "        out = self.relu(self.layer2(out))\n",
    "        # Output layer with LogSoftmax activation\n",
    "        out = self.LogSoftmax(self.layer3(out))\n",
    "        return out\n",
    "\n",
    "\n",
    "model = NeuralNet(input_size, hidden_size, output_size)\n",
    "lossFunction = nn.NLLLoss()\n",
    "optimizer = optim.SGD(model.parameters(), lr=0.003, momentum=0.9)"
   ],
   "metadata": {
    "collapsed": false,
    "pycharm": {
     "name": "#%%\n"
    }
   }
  },
  {
   "cell_type": "code",
   "execution_count": 74,
   "outputs": [
    {
     "ename": "RuntimeError",
     "evalue": "mat1 and mat2 shapes cannot be multiplied (12288x64 and 24576x128)",
     "output_type": "error",
     "traceback": [
      "\u001B[0;31m---------------------------------------------------------------------------\u001B[0m",
      "\u001B[0;31mRuntimeError\u001B[0m                              Traceback (most recent call last)",
      "Input \u001B[0;32mIn [74]\u001B[0m, in \u001B[0;36m<cell line: 2>\u001B[0;34m()\u001B[0m\n\u001B[1;32m      3\u001B[0m loss_ \u001B[38;5;241m=\u001B[39m \u001B[38;5;241m0\u001B[39m\n\u001B[1;32m      4\u001B[0m \u001B[38;5;28;01mfor\u001B[39;00m images, labels \u001B[38;5;129;01min\u001B[39;00m train_loader:\n\u001B[1;32m      5\u001B[0m     \u001B[38;5;66;03m# Forward Pass\u001B[39;00m\n\u001B[0;32m----> 6\u001B[0m     output \u001B[38;5;241m=\u001B[39m \u001B[43mmodel\u001B[49m\u001B[43m(\u001B[49m\u001B[43mimages\u001B[49m\u001B[43m)\u001B[49m\n\u001B[1;32m      7\u001B[0m     \u001B[38;5;66;03m# Loss at each iteration by comparing to target(label)\u001B[39;00m\n\u001B[1;32m      8\u001B[0m     loss \u001B[38;5;241m=\u001B[39m lossFunction(output, labels)\n",
      "File \u001B[0;32m~/.pyenv/versions/3.8.13/envs/infineon/lib/python3.8/site-packages/torch/nn/modules/module.py:1130\u001B[0m, in \u001B[0;36mModule._call_impl\u001B[0;34m(self, *input, **kwargs)\u001B[0m\n\u001B[1;32m   1126\u001B[0m \u001B[38;5;66;03m# If we don't have any hooks, we want to skip the rest of the logic in\u001B[39;00m\n\u001B[1;32m   1127\u001B[0m \u001B[38;5;66;03m# this function, and just call forward.\u001B[39;00m\n\u001B[1;32m   1128\u001B[0m \u001B[38;5;28;01mif\u001B[39;00m \u001B[38;5;129;01mnot\u001B[39;00m (\u001B[38;5;28mself\u001B[39m\u001B[38;5;241m.\u001B[39m_backward_hooks \u001B[38;5;129;01mor\u001B[39;00m \u001B[38;5;28mself\u001B[39m\u001B[38;5;241m.\u001B[39m_forward_hooks \u001B[38;5;129;01mor\u001B[39;00m \u001B[38;5;28mself\u001B[39m\u001B[38;5;241m.\u001B[39m_forward_pre_hooks \u001B[38;5;129;01mor\u001B[39;00m _global_backward_hooks\n\u001B[1;32m   1129\u001B[0m         \u001B[38;5;129;01mor\u001B[39;00m _global_forward_hooks \u001B[38;5;129;01mor\u001B[39;00m _global_forward_pre_hooks):\n\u001B[0;32m-> 1130\u001B[0m     \u001B[38;5;28;01mreturn\u001B[39;00m \u001B[43mforward_call\u001B[49m\u001B[43m(\u001B[49m\u001B[38;5;241;43m*\u001B[39;49m\u001B[38;5;28;43minput\u001B[39;49m\u001B[43m,\u001B[49m\u001B[43m \u001B[49m\u001B[38;5;241;43m*\u001B[39;49m\u001B[38;5;241;43m*\u001B[39;49m\u001B[43mkwargs\u001B[49m\u001B[43m)\u001B[49m\n\u001B[1;32m   1131\u001B[0m \u001B[38;5;66;03m# Do not call functions when jit is used\u001B[39;00m\n\u001B[1;32m   1132\u001B[0m full_backward_hooks, non_full_backward_hooks \u001B[38;5;241m=\u001B[39m [], []\n",
      "Input \u001B[0;32mIn [73]\u001B[0m, in \u001B[0;36mNeuralNet.forward\u001B[0;34m(self, x)\u001B[0m\n\u001B[1;32m     23\u001B[0m \u001B[38;5;28;01mdef\u001B[39;00m \u001B[38;5;21mforward\u001B[39m(\u001B[38;5;28mself\u001B[39m, x):\n\u001B[1;32m     24\u001B[0m     \u001B[38;5;66;03m# HL1 with relu activation\u001B[39;00m\n\u001B[0;32m---> 25\u001B[0m     out \u001B[38;5;241m=\u001B[39m \u001B[38;5;28mself\u001B[39m\u001B[38;5;241m.\u001B[39mrelu(\u001B[38;5;28;43mself\u001B[39;49m\u001B[38;5;241;43m.\u001B[39;49m\u001B[43mlayer1\u001B[49m\u001B[43m(\u001B[49m\u001B[43mx\u001B[49m\u001B[43m)\u001B[49m)\n\u001B[1;32m     26\u001B[0m     \u001B[38;5;66;03m# HL2 with relu activation\u001B[39;00m\n\u001B[1;32m     27\u001B[0m     out \u001B[38;5;241m=\u001B[39m \u001B[38;5;28mself\u001B[39m\u001B[38;5;241m.\u001B[39mrelu(\u001B[38;5;28mself\u001B[39m\u001B[38;5;241m.\u001B[39mlayer2(out))\n",
      "File \u001B[0;32m~/.pyenv/versions/3.8.13/envs/infineon/lib/python3.8/site-packages/torch/nn/modules/module.py:1130\u001B[0m, in \u001B[0;36mModule._call_impl\u001B[0;34m(self, *input, **kwargs)\u001B[0m\n\u001B[1;32m   1126\u001B[0m \u001B[38;5;66;03m# If we don't have any hooks, we want to skip the rest of the logic in\u001B[39;00m\n\u001B[1;32m   1127\u001B[0m \u001B[38;5;66;03m# this function, and just call forward.\u001B[39;00m\n\u001B[1;32m   1128\u001B[0m \u001B[38;5;28;01mif\u001B[39;00m \u001B[38;5;129;01mnot\u001B[39;00m (\u001B[38;5;28mself\u001B[39m\u001B[38;5;241m.\u001B[39m_backward_hooks \u001B[38;5;129;01mor\u001B[39;00m \u001B[38;5;28mself\u001B[39m\u001B[38;5;241m.\u001B[39m_forward_hooks \u001B[38;5;129;01mor\u001B[39;00m \u001B[38;5;28mself\u001B[39m\u001B[38;5;241m.\u001B[39m_forward_pre_hooks \u001B[38;5;129;01mor\u001B[39;00m _global_backward_hooks\n\u001B[1;32m   1129\u001B[0m         \u001B[38;5;129;01mor\u001B[39;00m _global_forward_hooks \u001B[38;5;129;01mor\u001B[39;00m _global_forward_pre_hooks):\n\u001B[0;32m-> 1130\u001B[0m     \u001B[38;5;28;01mreturn\u001B[39;00m \u001B[43mforward_call\u001B[49m\u001B[43m(\u001B[49m\u001B[38;5;241;43m*\u001B[39;49m\u001B[38;5;28;43minput\u001B[39;49m\u001B[43m,\u001B[49m\u001B[43m \u001B[49m\u001B[38;5;241;43m*\u001B[39;49m\u001B[38;5;241;43m*\u001B[39;49m\u001B[43mkwargs\u001B[49m\u001B[43m)\u001B[49m\n\u001B[1;32m   1131\u001B[0m \u001B[38;5;66;03m# Do not call functions when jit is used\u001B[39;00m\n\u001B[1;32m   1132\u001B[0m full_backward_hooks, non_full_backward_hooks \u001B[38;5;241m=\u001B[39m [], []\n",
      "File \u001B[0;32m~/.pyenv/versions/3.8.13/envs/infineon/lib/python3.8/site-packages/torch/nn/modules/linear.py:114\u001B[0m, in \u001B[0;36mLinear.forward\u001B[0;34m(self, input)\u001B[0m\n\u001B[1;32m    113\u001B[0m \u001B[38;5;28;01mdef\u001B[39;00m \u001B[38;5;21mforward\u001B[39m(\u001B[38;5;28mself\u001B[39m, \u001B[38;5;28minput\u001B[39m: Tensor) \u001B[38;5;241m-\u001B[39m\u001B[38;5;241m>\u001B[39m Tensor:\n\u001B[0;32m--> 114\u001B[0m     \u001B[38;5;28;01mreturn\u001B[39;00m \u001B[43mF\u001B[49m\u001B[38;5;241;43m.\u001B[39;49m\u001B[43mlinear\u001B[49m\u001B[43m(\u001B[49m\u001B[38;5;28;43minput\u001B[39;49m\u001B[43m,\u001B[49m\u001B[43m \u001B[49m\u001B[38;5;28;43mself\u001B[39;49m\u001B[38;5;241;43m.\u001B[39;49m\u001B[43mweight\u001B[49m\u001B[43m,\u001B[49m\u001B[43m \u001B[49m\u001B[38;5;28;43mself\u001B[39;49m\u001B[38;5;241;43m.\u001B[39;49m\u001B[43mbias\u001B[49m\u001B[43m)\u001B[49m\n",
      "\u001B[0;31mRuntimeError\u001B[0m: mat1 and mat2 shapes cannot be multiplied (12288x64 and 24576x128)"
     ]
    }
   ],
   "source": [
    "num_epochs = 10\n",
    "for epoch in range(num_epochs):\n",
    "    loss_ = 0\n",
    "    for images, labels in train_loader:\n",
    "        # Forward Pass\n",
    "        output = model(images)\n",
    "        # Loss at each iteration by comparing to target(label)\n",
    "        loss = lossFunction(output, labels)\n",
    "\n",
    "        # Backpropagation gradient of loss\n",
    "        optimizer.zero_grad()\n",
    "        loss.backward()\n",
    "\n",
    "        # Updating parameters(weights and bias)\n",
    "        optimizer.step()\n",
    "\n",
    "        loss_ += loss.item()\n",
    "    print(\"Epoch{}, Training loss:{}\".format(epoch, loss_ / len(train_loader)))"
   ],
   "metadata": {
    "collapsed": false,
    "pycharm": {
     "name": "#%%\n"
    }
   }
  },
  {
   "cell_type": "code",
   "execution_count": null,
   "outputs": [],
   "source": [],
   "metadata": {
    "collapsed": false,
    "pycharm": {
     "name": "#%%\n"
    }
   }
  }
 ],
 "metadata": {
  "kernelspec": {
   "display_name": "Python 3",
   "language": "python",
   "name": "python3"
  },
  "language_info": {
   "codemirror_mode": {
    "name": "ipython",
    "version": 2
   },
   "file_extension": ".py",
   "mimetype": "text/x-python",
   "name": "python",
   "nbconvert_exporter": "python",
   "pygments_lexer": "ipython2",
   "version": "2.7.6"
  }
 },
 "nbformat": 4,
 "nbformat_minor": 0
}