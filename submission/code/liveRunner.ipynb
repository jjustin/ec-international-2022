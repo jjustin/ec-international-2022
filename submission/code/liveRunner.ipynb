{
 "cells": [
  {
   "cell_type": "code",
   "execution_count": null,
   "metadata": {
    "collapsed": true,
    "pycharm": {
     "name": "#%%\n"
    }
   },
   "outputs": [],
   "source": [
    "from ifxdaq.sensor.radar_ifx import RadarIfxAvian\n",
    "import cv2\n",
    "\n",
    "with RadarIfxAvian(config_file) as radar:                             # Initialize the radar with configurations\n",
    "\n",
    "    for i_frame, frame in enumerate(radar):                           # Loop through the frames coming from the radar\n",
    "        data = np.squeeze(frame['radar'].data)\n",
    "        data = np.asarray([data])\n",
    "        range_doppler_map = processing.processing_rangeDopplerData(data)\n",
    "        data = np.abs(range_doppler_map)\n",
    "        input = torch.tensor(data).to(device=device, dtype=torch.float32)\n",
    "\n",
    "        no = torch.argmax(net(input))\n",
    "        # no = 1 #TODO:Remove\n",
    "        # img = np.concatenate((data[0,0,:,:],data[0,1,:,:],data[0,2,:,:] ))\n",
    "\n",
    "        # # scale the image\n",
    "        # scale_percent = 400 # percent of original size\n",
    "        # width = int(img.shape[1] * scale_percent / 100)\n",
    "        # height = int(img.shape[0] * scale_percent / 100)\n",
    "        # dim = (width, height)\n",
    "\n",
    "        # img = cv2.resize(img, dim)\n",
    "        # print(img.shape)\n",
    "        # text = np.ones(shape=(256, 256), dtype=np.int16)\n",
    "        # cv2.putText(text, text=f\"{no}\", org=(30, 100), fontFace=cv2.FONT_HERSHEY_TRIPLEX,\n",
    "        #     fontScale=8, color=(255, 0, 0),thickness=3)\n",
    "\n",
    "        # cv2.imshow(\"img\",img)\n",
    "        # cv2.imshow(\"text\",text)\n",
    "        print(no)\n",
    "        # cv2.imshow(\"status\", img)\n"
   ]
  },
  {
   "cell_type": "code",
   "execution_count": null,
   "outputs": [],
   "source": [
    "import ifxdaq\n",
    "import processing\n",
    "import numpy as np\n",
    "#print(ifxdaq.__version__)\n",
    "from ifxdaq.sensor.radar_ifx import RadarIfxAvian\n",
    "import matplotlib.pyplot as plot\n",
    "from matplotlib.animation import FuncAnimation\n",
    "import torch\n",
    "device = \"cuda\"\n",
    "config_file = \"radar_configs/RadarIfxBGT60.json\""
   ],
   "metadata": {
    "collapsed": false,
    "pycharm": {
     "name": "#%%\n"
    }
   }
  }
 ],
 "metadata": {
  "kernelspec": {
   "display_name": "Python 3",
   "language": "python",
   "name": "python3"
  },
  "language_info": {
   "codemirror_mode": {
    "name": "ipython",
    "version": 2
   },
   "file_extension": ".py",
   "mimetype": "text/x-python",
   "name": "python",
   "nbconvert_exporter": "python",
   "pygments_lexer": "ipython2",
   "version": "2.7.6"
  }
 },
 "nbformat": 4,
 "nbformat_minor": 0
}