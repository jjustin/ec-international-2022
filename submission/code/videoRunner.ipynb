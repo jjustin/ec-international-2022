{
 "cells": [
  {
   "cell_type": "markdown",
   "metadata": {},
   "source": [
    "# Video runner\n",
    "\n",
    "same as live runner but for getting data from capture"
   ]
  },
  {
   "cell_type": "code",
   "execution_count": 1,
   "metadata": {
    "collapsed": true,
    "pycharm": {
     "name": "#%%\n"
    }
   },
   "outputs": [],
   "source": [
    "import ifxdaq\n",
    "import processing\n",
    "import numpy as np\n",
    "#print(ifxdaq.__version__)\n",
    "from ifxdaq.sensor.radar_ifx import RadarIfxAvian\n",
    "import matplotlib.pyplot as plot\n",
    "from matplotlib.animation import FuncAnimation\n",
    "import torch\n",
    "\n",
    "from dataset import preprocess_input\n",
    "\n",
    "device = \"cuda\"\n",
    "config_file = \"radar_configs/RadarIfxBGT60.json\""
   ]
  },
  {
   "cell_type": "code",
   "execution_count": 6,
   "metadata": {
    "collapsed": false,
    "pycharm": {
     "name": "#%%\n"
    }
   },
   "outputs": [
    {
     "name": "stdout",
     "output_type": "stream",
     "text": [
      "Detecting 2.0 people"
     ]
    }
   ],
   "source": [
    "import cv2\n",
    "import sys\n",
    "\n",
    "from models import *\n",
    "f = 0\n",
    "model = SpaghettiModel().to(device)\n",
    "model.load_state_dict(torch.load('models/spaghettiAlPestoETonno.pth'))\n",
    "model.eval()\n",
    "\n",
    "file_name = f'../../recordings/recording_2022_05_26_17_33_25/RadarIfxAvian_00/radar.npy'\n",
    "data = np.load(file_name)\n",
    "\n",
    "range_doppler_map = processing.processing_rangeDopplerData(data)\n",
    "preprocessed = preprocess_input(range_doppler_map)\n",
    "\n",
    "history = torch.zeros((10)).to(device)\n",
    "\n",
    "for frame in preprocessed:\n",
    "    # Loop through the frames coming from the radar\n",
    "    input = torch.from_numpy(frame).type(torch.FloatTensor).to(device=device)\n",
    "    input = torch.unsqueeze(input, 0)\n",
    "\n",
    "    no = torch.argmax(model(input))\n",
    "    history = torch.cat([torch.unsqueeze(no,0), history[:9]])\n",
    "    sys.stdout.write(f\"\\rDetecting {torch.median(history).item()} people\")\n",
    "    sys.stdout.flush()\n",
    "    data = preprocess_input([frame])\n",
    "\n",
    "\n",
    "    img = np.concatenate((data[0,0,:,:],data[0,1,:,:],data[0,2,:,:] ))\n",
    "    \n",
    "    # scale the image\n",
    "    scale_percent = 400 # percent of original size\n",
    "    width = int(img.shape[1] * scale_percent / 100)\n",
    "    height = int(img.shape[0] * scale_percent / 100)\n",
    "    dim = (width, height)\n",
    "\n",
    "    img = cv2.resize(img, dim)\n",
    "\n",
    "    text = np.zeros(shape=(256, 256,3), dtype=np.int16)\n",
    "    cv2.putText(text, text=f\"{no}\", org=(30, 250), fontFace=cv2.FONT_HERSHEY_TRIPLEX, \n",
    "        fontScale=8, color=(255,0,0),thickness=3)\n",
    "    \n",
    "    cv2.imshow(\"img\",img)\n",
    "    # cv2.imshow(\"text\",text)\n",
    "\n",
    "    \n",
    "    if cv2.waitKey(1) & 0xFF == ord('q'):\n",
    "        break\n",
    "    "
   ]
  }
 ],
 "metadata": {
  "interpreter": {
   "hash": "01ca3796a35d0eee18d928ce6bcb6ceb711861d64ee73f0b7f7437f32c63f40a"
  },
  "kernelspec": {
   "display_name": "Python 3.8.10 64-bit",
   "language": "python",
   "name": "python3"
  },
  "language_info": {
   "codemirror_mode": {
    "name": "ipython",
    "version": 3
   },
   "file_extension": ".py",
   "mimetype": "text/x-python",
   "name": "python",
   "nbconvert_exporter": "python",
   "pygments_lexer": "ipython3",
   "version": "3.8.10"
  }
 },
 "nbformat": 4,
 "nbformat_minor": 0
}
