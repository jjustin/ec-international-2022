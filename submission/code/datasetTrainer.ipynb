{
 "cells": [
  {
   "cell_type": "code",
   "execution_count": 1,
   "metadata": {
    "collapsed": true,
    "pycharm": {
     "name": "#%%\n"
    }
   },
   "outputs": [],
   "source": [
    "from models import *\n",
    "from dataset import *\n",
    "import torch\n",
    "from torch.utils.data import DataLoader\n",
    "from tqdm import tqdm, tqdm_notebook\n",
    "device = \"cuda\" if torch.cuda.is_available() else \"cpu\""
   ]
  },
  {
   "cell_type": "code",
   "execution_count": 2,
   "metadata": {
    "collapsed": false,
    "pycharm": {
     "name": "#%%\n"
    }
   },
   "outputs": [],
   "source": [
    "model = AnelliModel().to(device)\n",
    "# model.load_state_dict(torch.load('models/penne2AlPesto1.pth'))\n",
    "# model.eval()\n",
    "\n",
    "dataset = SensorDataset(bolognese1EPesto1)\n",
    "train_size = round(len(dataset) * 0.8)\n",
    "test_size = len(dataset) - train_size\n",
    "train_dataset, test_dataset = random_split(dataset, [train_size, test_size])\n",
    "\n",
    "train_loader = DataLoader(train_dataset, batch_size=64, shuffle=True)\n",
    "test_loader = DataLoader(test_dataset, batch_size=64, shuffle=True)"
   ]
  },
  {
   "cell_type": "code",
   "execution_count": 3,
   "metadata": {},
   "outputs": [
    {
     "name": "stdout",
     "output_type": "stream",
     "text": [
      "==========================================================================================\n",
      "Layer (type:depth-idx)                   Output Shape              Param #\n",
      "==========================================================================================\n",
      "├─Sequential: 1-1                        [-1, 4]                   --\n",
      "|    └─Conv2d: 2-1                       [-1, 10, 32, 32]          480\n",
      "|    └─MaxPool2d: 2-2                    [-1, 10, 12, 12]          --\n",
      "|    └─LeakyReLU: 2-3                    [-1, 10, 12, 12]          --\n",
      "|    └─Conv2d: 2-4                       [-1, 20, 6, 6]            3,200\n",
      "|    └─BatchNorm2d: 2-5                  [-1, 20, 6, 6]            40\n",
      "|    └─LeakyReLU: 2-6                    [-1, 20, 6, 6]            --\n",
      "|    └─Conv2d: 2-7                       [-1, 40, 3, 3]            12,800\n",
      "|    └─BatchNorm2d: 2-8                  [-1, 40, 3, 3]            80\n",
      "|    └─LeakyReLU: 2-9                    [-1, 40, 3, 3]            --\n",
      "|    └─Flatten: 2-10                     [-1, 360]                 --\n",
      "|    └─Linear: 2-11                      [-1, 180]                 64,800\n",
      "|    └─LeakyReLU: 2-12                   [-1, 180]                 --\n",
      "|    └─Linear: 2-13                      [-1, 90]                  16,200\n",
      "|    └─LeakyReLU: 2-14                   [-1, 90]                  --\n",
      "|    └─Linear: 2-15                      [-1, 45]                  4,050\n",
      "|    └─LeakyReLU: 2-16                   [-1, 45]                  --\n",
      "|    └─Linear: 2-17                      [-1, 4]                   180\n",
      "|    └─Sigmoid: 2-18                     [-1, 4]                   --\n",
      "==========================================================================================\n",
      "Total params: 101,830\n",
      "Trainable params: 101,830\n",
      "Non-trainable params: 0\n",
      "Total mult-adds (M): 0.91\n",
      "==========================================================================================\n",
      "Input size (MB): 0.05\n",
      "Forward/backward pass size (MB): 0.10\n",
      "Params size (MB): 0.39\n",
      "Estimated Total Size (MB): 0.53\n",
      "==========================================================================================\n"
     ]
    },
    {
     "data": {
      "text/plain": [
       "==========================================================================================\n",
       "Layer (type:depth-idx)                   Output Shape              Param #\n",
       "==========================================================================================\n",
       "├─Sequential: 1-1                        [-1, 4]                   --\n",
       "|    └─Conv2d: 2-1                       [-1, 10, 32, 32]          480\n",
       "|    └─MaxPool2d: 2-2                    [-1, 10, 12, 12]          --\n",
       "|    └─LeakyReLU: 2-3                    [-1, 10, 12, 12]          --\n",
       "|    └─Conv2d: 2-4                       [-1, 20, 6, 6]            3,200\n",
       "|    └─BatchNorm2d: 2-5                  [-1, 20, 6, 6]            40\n",
       "|    └─LeakyReLU: 2-6                    [-1, 20, 6, 6]            --\n",
       "|    └─Conv2d: 2-7                       [-1, 40, 3, 3]            12,800\n",
       "|    └─BatchNorm2d: 2-8                  [-1, 40, 3, 3]            80\n",
       "|    └─LeakyReLU: 2-9                    [-1, 40, 3, 3]            --\n",
       "|    └─Flatten: 2-10                     [-1, 360]                 --\n",
       "|    └─Linear: 2-11                      [-1, 180]                 64,800\n",
       "|    └─LeakyReLU: 2-12                   [-1, 180]                 --\n",
       "|    └─Linear: 2-13                      [-1, 90]                  16,200\n",
       "|    └─LeakyReLU: 2-14                   [-1, 90]                  --\n",
       "|    └─Linear: 2-15                      [-1, 45]                  4,050\n",
       "|    └─LeakyReLU: 2-16                   [-1, 45]                  --\n",
       "|    └─Linear: 2-17                      [-1, 4]                   180\n",
       "|    └─Sigmoid: 2-18                     [-1, 4]                   --\n",
       "==========================================================================================\n",
       "Total params: 101,830\n",
       "Trainable params: 101,830\n",
       "Non-trainable params: 0\n",
       "Total mult-adds (M): 0.91\n",
       "==========================================================================================\n",
       "Input size (MB): 0.05\n",
       "Forward/backward pass size (MB): 0.10\n",
       "Params size (MB): 0.39\n",
       "Estimated Total Size (MB): 0.53\n",
       "=========================================================================================="
      ]
     },
     "execution_count": 3,
     "metadata": {},
     "output_type": "execute_result"
    }
   ],
   "source": [
    "from torchsummary import summary\n",
    "\n",
    "summary(model, (3,64,64))\n"
   ]
  },
  {
   "cell_type": "code",
   "execution_count": 4,
   "metadata": {
    "collapsed": false,
    "pycharm": {
     "name": "#%%\n"
    }
   },
   "outputs": [
    {
     "name": "stderr",
     "output_type": "stream",
     "text": [
      "C:\\Users\\janez\\AppData\\Local\\Temp\\ipykernel_28044\\685865852.py:6: TqdmDeprecationWarning: This function will be removed in tqdm==5.0.0\n",
      "Please use `tqdm.notebook.tqdm` instead of `tqdm.tqdm_notebook`\n",
      "  for epoch in tqdm_notebook(range(150)):\n"
     ]
    },
    {
     "data": {
      "application/vnd.jupyter.widget-view+json": {
       "model_id": "72ea5bd9f6214ae6a7817ab4d85a58fa",
       "version_major": 2,
       "version_minor": 0
      },
      "text/plain": [
       "  0%|          | 0/150 [00:00<?, ?it/s]"
      ]
     },
     "metadata": {},
     "output_type": "display_data"
    }
   ],
   "source": [
    "import torch.optim as optim\n",
    "\n",
    "criterion = nn.MSELoss()\n",
    "optimizer = optim.SGD(model.parameters(), lr=0.02)\n",
    "\n",
    "for epoch in tqdm_notebook(range(150)):\n",
    "\n",
    "    for sample, label in train_loader:\n",
    "        sample = sample.to(device=device, dtype=torch.float)\n",
    "        label = label.to(device=device, dtype=torch.float)\n",
    "\n",
    "        optimizer.zero_grad()   # zero the gradient buffers\n",
    "        output = model(sample)\n",
    "        loss = criterion(output, label)\n",
    "        loss.backward()\n",
    "        optimizer.step()    # Does the update\n",
    "        # print(loss.item())\n"
   ]
  },
  {
   "cell_type": "code",
   "execution_count": 5,
   "metadata": {
    "collapsed": false,
    "pycharm": {
     "name": "#%%\n"
    }
   },
   "outputs": [
    {
     "data": {
      "image/png": "[encoded data removed]",
      "text/plain": [
       "<Figure size 864x504 with 2 Axes>"
      ]
     },
     "metadata": {
      "needs_background": "light"
     },
     "output_type": "display_data"
    }
   ],
   "source": [
    "from sklearn.metrics import confusion_matrix\n",
    "import seaborn as sn\n",
    "import pandas as pd\n",
    "import matplotlib.pyplot as plot\n",
    "\n",
    "y_pred = []\n",
    "y_true = []\n",
    "\n",
    "for sample, labels in test_loader:\n",
    "    sample = sample.to(device=device, dtype=torch.float)\n",
    "    labels = labels.to(device=device, dtype=torch.float)\n",
    "\n",
    "    output = model(sample)\n",
    "\n",
    "    output = (torch.max(output, 1)[1]).data.cpu().numpy()\n",
    "    y_pred.extend(output) # Save Prediction\n",
    "    labels = (torch.max(labels,1)[1]).data.cpu().numpy()\n",
    "    y_true.extend(labels) # Save Truth\n",
    "\n",
    "classes = (0,1,2,3)\n",
    "\n",
    "cf_matrix = confusion_matrix(y_true, y_pred)\n",
    "\n",
    "df_cm = pd.DataFrame(cf_matrix, index = [i for i in classes],\n",
    "                     columns = [i for i in classes])\n",
    "plot.figure(figsize = (12,7))\n",
    "sn.heatmap(df_cm, annot=True)\n",
    "plot.show()\n"
   ]
  },
  {
   "cell_type": "code",
   "execution_count": 6,
   "metadata": {
    "collapsed": false,
    "pycharm": {
     "name": "#%%\n"
    }
   },
   "outputs": [],
   "source": [
    "torch.save(model.state_dict(), \"models/penne2Albolognese1EPesto1.pth\")"
   ]
  }
 ],
 "metadata": {
  "interpreter": {
   "hash": "01ca3796a35d0eee18d928ce6bcb6ceb711861d64ee73f0b7f7437f32c63f40a"
  },
  "kernelspec": {
   "display_name": "Python 3.8.10 64-bit",
   "language": "python",
   "name": "python3"
  },
  "language_info": {
   "codemirror_mode": {
    "name": "ipython",
    "version": 3
   },
   "file_extension": ".py",
   "mimetype": "text/x-python",
   "name": "python",
   "nbconvert_exporter": "python",
   "pygments_lexer": "ipython3",
   "version": "3.8.10"
  }
 },
 "nbformat": 4,
 "nbformat_minor": 0
}
